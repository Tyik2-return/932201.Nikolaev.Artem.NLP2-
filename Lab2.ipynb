{
 "cells": [
  {
   "cell_type": "code",
   "execution_count": 1,
   "id": "7ec50743-6afb-44bf-9d45-4ffd8844e648",
   "metadata": {},
   "outputs": [],
   "source": [
    "import gensim.models\n",
    "import re"
   ]
  },
  {
   "cell_type": "code",
   "execution_count": 2,
   "id": "54d8d26a-abe1-4332-9275-aa0839cadad7",
   "metadata": {},
   "outputs": [
    {
     "name": "stdout",
     "output_type": "stream",
     "text": [
      "Существительные, близкие в векторном представлении к 'процесс_NOUN' и 'регуляция_NOUN':\n",
      "саморегуляция\n",
      "механизм\n",
      "система\n",
      "структура\n",
      "функция\n",
      "функционирование\n",
      "взаимодействие\n",
      "активация\n",
      "деятельность\n",
      "реакция\n",
      "эволюция\n",
      "активность\n",
      "фактор\n",
      "синтез\n"
     ]
    }
   ],
   "source": [
    "word2vec = gensim.models.KeyedVectors.load_word2vec_format(\"cbow.txt\", binary=False)\n",
    "pat = re.compile(\"(.*)_NOUN\")\n",
    "\n",
    "pos = [\"процесс_NOUN\", \"регуляция_NOUN\"]\n",
    "similar = word2vec.most_similar(positive=pos, topn=20)\n",
    "\n",
    "similar_nouns_tagged = [w for w, s in similar if pat.match(w) is not None]\n",
    "similar_nouns_bases = [pat.match(w).group(1) for w in similar_nouns_tagged]\n",
    "\n",
    "print(\"Существительные, близкие в векторном представлении к 'процесс_NOUN' и 'регуляция_NOUN':\")\n",
    "for base in similar_nouns_bases:\n",
    "    print(base)"
   ]
  },
  {
   "cell_type": "code",
   "execution_count": 3,
   "id": "fd7acecc-a93a-4194-8b71-3414fe37a4b7",
   "metadata": {},
   "outputs": [
    {
     "name": "stdout",
     "output_type": "stream",
     "text": [
      "механизм + активность:\n",
      "  процесс (схожесть: 0.7052)\n",
      "  система (схожесть: 0.6880)\n",
      "  структура (схожесть: 0.6857)\n",
      "  регуляция (схожесть: 0.6290)\n",
      "  активация (схожесть: 0.6224)\n",
      "  фактор (схожесть: 0.6122)\n",
      "  эффективность (схожесть: 0.6085)\n",
      "  функция (схожесть: 0.5937)\n",
      "  реакция (схожесть: 0.5904)\n",
      "  потенциал (схожесть: 0.5858)\n"
     ]
    }
   ],
   "source": [
    "results = word2vec.most_similar(positive=[\"механизм_NOUN\", \"активность_NOUN\"],  topn=10)\n",
    "print(\"механизм + активность:\")\n",
    "for word, score in results:\n",
    "    base_word = word.split('_')[0]\n",
    "    print(f\"  {base_word} (схожесть: {score:.4f})\")"
   ]
  },
  {
   "cell_type": "code",
   "execution_count": 4,
   "id": "38c91d3d-bd7a-410b-9320-1a3641ffcfd1",
   "metadata": {},
   "outputs": [
    {
     "name": "stdout",
     "output_type": "stream",
     "text": [
      "механизм + функция - система:\n",
      "  регуляция (схожесть: 0.4997)\n",
      "  регуляторный (схожесть: 0.4712)\n",
      "  эффектор (схожесть: 0.4604)\n",
      "  адаптивный (схожесть: 0.4496)\n",
      "  регулятор (схожесть: 0.4494)\n",
      "  эффекторный (схожесть: 0.4485)\n",
      "  процесс (схожесть: 0.4481)\n",
      "  структура (схожесть: 0.4387)\n",
      "  функциональный (схожесть: 0.4327)\n",
      "  индивид (схожесть: 0.4306)\n"
     ]
    }
   ],
   "source": [
    "results = word2vec.most_similar(positive=[\"механизм_NOUN\", \"функция_NOUN\"], negative=[\"система_NOUN\"], topn=10)\n",
    "print(\"механизм + функция - система:\")\n",
    "for word, score in results:\n",
    "    base_word = word.split('_')[0]\n",
    "    print(f\"  {base_word} (схожесть: {score:.4f})\")"
   ]
  },
  {
   "cell_type": "code",
   "execution_count": null,
   "id": "27a505cc-027c-42a7-bd8e-4dafb78eff83",
   "metadata": {},
   "outputs": [],
   "source": []
  }
 ],
 "metadata": {
  "kernelspec": {
   "display_name": "Python 3 (ipykernel)",
   "language": "python",
   "name": "python3"
  },
  "language_info": {
   "codemirror_mode": {
    "name": "ipython",
    "version": 3
   },
   "file_extension": ".py",
   "mimetype": "text/x-python",
   "name": "python",
   "nbconvert_exporter": "python",
   "pygments_lexer": "ipython3",
   "version": "3.10.18"
  }
 },
 "nbformat": 4,
 "nbformat_minor": 5
}
